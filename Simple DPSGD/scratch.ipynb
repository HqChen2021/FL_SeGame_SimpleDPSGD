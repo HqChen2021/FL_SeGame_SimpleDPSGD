{
 "cells": [
  {
   "cell_type": "code",
   "execution_count": 4,
   "outputs": [],
   "source": [
    "import torch"
   ],
   "metadata": {
    "collapsed": false,
    "pycharm": {
     "name": "#%%\n"
    }
   }
  },
  {
   "cell_type": "code",
   "execution_count": 8,
   "outputs": [],
   "source": [
    "state_no_game = torch.load('./save/fmnist_cnn_C[10]_F[0.2]_iid[0]_Epoch[150]_Lep[3]_B[128]_DP[1]_SE[0]_TAcc[0.8]_MaxZ[2.0]_MinZ[0.69314].npy')"
   ],
   "metadata": {
    "collapsed": false,
    "pycharm": {
     "name": "#%%\n"
    }
   }
  },
  {
   "cell_type": "code",
   "execution_count": 10,
   "outputs": [
    {
     "data": {
      "text/plain": "[0.859, 0.874, 0.892, 0.786, 0.956, 0.807, 0.892, 0.78, 0.911, 0.823]"
     },
     "execution_count": 10,
     "metadata": {},
     "output_type": "execute_result"
    }
   ],
   "source": [
    "state_no_game['best_acc_list']"
   ],
   "metadata": {
    "collapsed": false,
    "pycharm": {
     "name": "#%%\n"
    }
   }
  },
  {
   "cell_type": "code",
   "execution_count": 11,
   "outputs": [],
   "source": [
    "state_with_game = torch.load('./save/fmnist_cnn_C[10]_F[0.2]_iid[0]_Epoch[150]_Lep[3]_B[128]_DP[1]_SE[1]_TAcc[0.8]_MaxZ[2.0]_MinZ[0.69314].npy')"
   ],
   "metadata": {
    "collapsed": false,
    "pycharm": {
     "name": "#%%\n"
    }
   }
  },
  {
   "cell_type": "code",
   "execution_count": 12,
   "outputs": [
    {
     "data": {
      "text/plain": "[0.823, 0.859, 0.892, 0.729, 0.905, 0.931, 0.608, 0.737, 0.938, 0.725]"
     },
     "execution_count": 12,
     "metadata": {},
     "output_type": "execute_result"
    }
   ],
   "source": [
    "state_with_game['best_acc_list']"
   ],
   "metadata": {
    "collapsed": false,
    "pycharm": {
     "name": "#%%\n"
    }
   }
  },
  {
   "cell_type": "code",
   "execution_count": 13,
   "outputs": [
    {
     "data": {
      "text/plain": "{1: 2.0,\n 3: 2.0,\n 7: 2.0,\n 9: 2.0,\n 13: 2.0,\n 14: 2.0,\n 18: 0,\n 24: 0,\n 25: 0,\n 38: 0,\n 40: 0,\n 41: 0,\n 52: 0,\n 54: 0,\n 58: 0,\n 63: 0,\n 66: 0,\n 67: 0,\n 75: 0,\n 76: 0,\n 77: 0,\n 80: 0,\n 96: 0,\n 97: 0,\n 98: 0,\n 110: 0,\n 113: 0,\n 122: 0,\n 125: 0,\n 126: 0,\n 127: 0,\n 131: 0,\n 133: 0,\n 134: 0,\n 136: 0,\n 145: 0,\n 146: 0,\n 149: 0}"
     },
     "execution_count": 13,
     "metadata": {},
     "output_type": "execute_result"
    }
   ],
   "source": [
    "state_with_game['client_record'][5]['z']"
   ],
   "metadata": {
    "collapsed": false,
    "pycharm": {
     "name": "#%%\n"
    }
   }
  },
  {
   "cell_type": "code",
   "execution_count": null,
   "outputs": [],
   "source": [],
   "metadata": {
    "collapsed": false,
    "pycharm": {
     "name": "#%%\n"
    }
   }
  }
 ],
 "metadata": {
  "kernelspec": {
   "display_name": "Python 3",
   "language": "python",
   "name": "python3"
  },
  "language_info": {
   "codemirror_mode": {
    "name": "ipython",
    "version": 2
   },
   "file_extension": ".py",
   "mimetype": "text/x-python",
   "name": "python",
   "nbconvert_exporter": "python",
   "pygments_lexer": "ipython2",
   "version": "2.7.6"
  }
 },
 "nbformat": 4,
 "nbformat_minor": 0
}