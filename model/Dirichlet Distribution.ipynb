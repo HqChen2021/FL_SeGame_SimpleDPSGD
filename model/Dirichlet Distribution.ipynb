{
 "cells": [
  {
   "cell_type": "code",
   "execution_count": 1,
   "id": "b3a1e053-946c-421c-8699-23f3c8a075ee",
   "metadata": {},
   "outputs": [],
   "source": [
    "from torch.utils.data import Dataset\n",
    "import matplotlib.pyplot as plt\n",
    "import pandas as pd\n",
    "import numpy as np\n",
    "from torchvision import datasets, transforms\n",
    "import torch\n",
    "\n",
    "iid_data =  datasets.FashionMNIST(root='data/FMNIST',download=True,train=True) \n",
    "num_classes = len(iid_data.classes)\n",
    "alpha = 1 # if alpha is small --> increasing non-iidness, or if alpha is large --> increasing iidness\n",
    "num_worker = 10 # Number of client in federated learning"
   ]
  },
  {
   "cell_type": "code",
   "execution_count": 2,
   "id": "cc03921c-f823-41ce-9fc0-f70dd9936331",
   "metadata": {
    "tags": []
   },
   "outputs": [
    {
     "data": {
      "text/plain": [
       "['__add__',\n",
       " '__class__',\n",
       " '__class_getitem__',\n",
       " '__delattr__',\n",
       " '__dict__',\n",
       " '__dir__',\n",
       " '__doc__',\n",
       " '__eq__',\n",
       " '__format__',\n",
       " '__ge__',\n",
       " '__getattribute__',\n",
       " '__getitem__',\n",
       " '__gt__',\n",
       " '__hash__',\n",
       " '__init__',\n",
       " '__init_subclass__',\n",
       " '__le__',\n",
       " '__len__',\n",
       " '__lt__',\n",
       " '__module__',\n",
       " '__ne__',\n",
       " '__new__',\n",
       " '__orig_bases__',\n",
       " '__parameters__',\n",
       " '__reduce__',\n",
       " '__reduce_ex__',\n",
       " '__repr__',\n",
       " '__setattr__',\n",
       " '__sizeof__',\n",
       " '__slots__',\n",
       " '__str__',\n",
       " '__subclasshook__',\n",
       " '__weakref__',\n",
       " '_check_exists',\n",
       " '_format_transform_repr',\n",
       " '_repr_indent',\n",
       " 'class_to_idx',\n",
       " 'classes',\n",
       " 'data',\n",
       " 'download',\n",
       " 'extra_repr',\n",
       " 'processed_folder',\n",
       " 'raw_folder',\n",
       " 'resources',\n",
       " 'root',\n",
       " 'target_transform',\n",
       " 'targets',\n",
       " 'test_data',\n",
       " 'test_file',\n",
       " 'test_labels',\n",
       " 'train',\n",
       " 'train_data',\n",
       " 'train_labels',\n",
       " 'training_file',\n",
       " 'transform',\n",
       " 'transforms']"
      ]
     },
     "execution_count": 2,
     "metadata": {},
     "output_type": "execute_result"
    }
   ],
   "source": [
    "dir(iid_data)"
   ]
  },
  {
   "cell_type": "code",
   "execution_count": 21,
   "id": "0a3b7e3b-af17-4bc2-bf18-60a56d97502c",
   "metadata": {
    "tags": []
   },
   "outputs": [
    {
     "data": {
      "text/plain": [
       "60000"
      ]
     },
     "execution_count": 21,
     "metadata": {},
     "output_type": "execute_result"
    }
   ],
   "source": [
    "iid_data.data.shape[0]"
   ]
  },
  {
   "cell_type": "code",
   "execution_count": 30,
   "id": "e6697a5e-2fc6-4b31-8d99-1977a947545c",
   "metadata": {},
   "outputs": [
    {
     "data": {
      "text/plain": [
       "tensor([9, 0, 0,  ..., 3, 0, 5])"
      ]
     },
     "execution_count": 30,
     "metadata": {},
     "output_type": "execute_result"
    }
   ],
   "source": [
    "iid_data.train_labels"
   ]
  },
  {
   "cell_type": "code",
   "execution_count": 32,
   "id": "edd37d39-e053-4db2-ac30-234e988b86bc",
   "metadata": {},
   "outputs": [
    {
     "data": {
      "text/plain": [
       "array([   16,    21,    38, ..., 59989, 59991, 59996])"
      ]
     },
     "execution_count": 33,
     "metadata": {},
     "output_type": "execute_result"
    }
   ],
   "source": [
    "np.where(iid_data.targets == 1)[0].shape"
   ]
  },
  {
   "cell_type": "code",
   "execution_count": 9,
   "id": "f01ac18a-8e8c-443e-b567-17b774702aaf",
   "metadata": {},
   "outputs": [
    {
     "data": {
      "text/plain": [
       "dict_values([0, 1, 2, 3, 4, 5, 6, 7, 8, 9])"
      ]
     },
     "execution_count": 9,
     "metadata": {},
     "output_type": "execute_result"
    }
   ],
   "source": [
    "iid_data.class_to_idx.values()"
   ]
  },
  {
   "cell_type": "code",
   "execution_count": 11,
   "id": "2345f216-a5e8-4289-804e-d627a2f9a6aa",
   "metadata": {},
   "outputs": [
    {
     "data": {
      "text/plain": [
       "torch.Size([60000])"
      ]
     },
     "execution_count": 11,
     "metadata": {},
     "output_type": "execute_result"
    }
   ],
   "source": [
    "iid_data.targets.shape"
   ]
  },
  {
   "cell_type": "code",
   "execution_count": 13,
   "id": "6f418803-685b-465f-b077-919a2160c962",
   "metadata": {},
   "outputs": [
    {
     "data": {
      "text/plain": [
       "torch.Size([60000, 28, 28])"
      ]
     },
     "execution_count": 13,
     "metadata": {},
     "output_type": "execute_result"
    }
   ],
   "source": [
    "iid_data.data.shape"
   ]
  },
  {
   "cell_type": "code",
   "execution_count": 15,
   "id": "2433ec1e-fac2-48e6-a99f-38a66ea8a72e",
   "metadata": {},
   "outputs": [
    {
     "data": {
      "text/plain": [
       "torch.Size([60000, 28, 28])"
      ]
     },
     "execution_count": 15,
     "metadata": {},
     "output_type": "execute_result"
    }
   ],
   "source": [
    "iid_data.train_data.shape"
   ]
  },
  {
   "cell_type": "code",
   "execution_count": 10,
   "id": "996686d4-87a1-4e74-b703-3dc0a33756fb",
   "metadata": {},
   "outputs": [
    {
     "data": {
      "text/plain": [
       "torch.Size([6000])"
      ]
     },
     "execution_count": 10,
     "metadata": {},
     "output_type": "execute_result"
    }
   ],
   "source": [
    "idx[0][0].size()"
   ]
  },
  {
   "cell_type": "code",
   "execution_count": 39,
   "id": "729ebcbb-6fdc-4682-aaf9-12633cbbeb23",
   "metadata": {},
   "outputs": [
    {
     "data": {
      "text/plain": [
       "array([[1.73281251e-03, 7.28674070e-04, 9.87150459e-01, 8.77186661e-03,\n",
       "        1.61618828e-03],\n",
       "       [4.20737401e-02, 4.43690287e-03, 9.43166890e-01, 1.11248357e-03,\n",
       "        9.20998395e-03],\n",
       "       [4.33251203e-03, 2.79778736e-02, 9.37563539e-01, 1.40402205e-02,\n",
       "        1.60858553e-02]])"
      ]
     },
     "execution_count": 39,
     "metadata": {},
     "output_type": "execute_result"
    }
   ],
   "source": [
    "np.random.dirichlet([1,1,100,1,1], 3)"
   ]
  },
  {
   "cell_type": "code",
   "execution_count": 26,
   "id": "da1db050-c85e-49b0-85fc-3166b63a69b1",
   "metadata": {},
   "outputs": [
    {
     "data": {
      "text/plain": [
       "array([5.90540954e-02, 1.04734867e-01, 1.45005884e-04, 1.81618145e-02,\n",
       "       9.86518958e-02, 8.09314330e-02, 6.13825080e-02, 1.36866109e-01,\n",
       "       9.51916822e-02, 3.44880589e-01])"
      ]
     },
     "execution_count": 26,
     "metadata": {},
     "output_type": "execute_result"
    }
   ],
   "source": [
    "np.random.dirichlet([0.4, 0.4, 0.4, 0.4, 0.4, 0.4, 0.4, 0.4, 0.4, 0.4])"
   ]
  },
  {
   "cell_type": "code",
   "execution_count": 175,
   "id": "314ec088-7739-443d-aff6-5a8ff920578b",
   "metadata": {},
   "outputs": [],
   "source": [
    "iid_data =  datasets.MNIST(root='data/MNIST',download=True,train=True) "
   ]
  },
  {
   "cell_type": "code",
   "execution_count": 185,
   "id": "a7a97ce1-9a50-4e9b-8b14-8c5a8d51278c",
   "metadata": {},
   "outputs": [
    {
     "data": {
      "text/plain": [
       "60000"
      ]
     },
     "execution_count": 185,
     "metadata": {},
     "output_type": "execute_result"
    }
   ],
   "source": [
    "len(iid_data.targets)"
   ]
  },
  {
   "cell_type": "code",
   "execution_count": 176,
   "id": "386c5c3a-89c6-4153-9e69-ffb2d504d4b4",
   "metadata": {},
   "outputs": [],
   "source": [
    "dataset = iid_data\n",
    "num_clients = 10\n",
    "min_size = 0\n",
    "num_classes = len(dataset.classes)\n",
    "num_all_data = dataset.data.shape[0] # dataset.shape = 60000,28,28 for FMNIST\n",
    "net_dataidx_map = {}\n",
    "least_samples = 10\n",
    "while min_size < least_samples:\n",
    "    idx_batch = [[] for _ in range(num_clients)]\n",
    "    # idx_batch is a list stores data_index for clients. initialized as empty and increases step by step\n",
    "    for k in range(num_classes):\n",
    "        idx_k = np.where(dataset.targets == k)[0]\n",
    "        # locate index belong to data from class k\n",
    "        np.random.shuffle(idx_k)\n",
    "        # introduce randomness?\n",
    "        proportions = np.random.dirichlet(np.repeat(alpha, num_clients))\n",
    "        # generate sampling probabilities, [p_1,p_2,...p_K] \\sum_{i=1}^{K}(p_i)=1\n",
    "        proportions = np.array([p * (len(idx_j) < num_all_data / num_clients) for p, idx_j in zip(proportions,\n",
    "                                                                                                  idx_batch)])\n",
    "        # check the probabilities lsit, if client j has gain enough samples,\n",
    "        # tthen his sampling probability is set to 0 for this round and afterward\n",
    "        proportions = proportions / proportions.sum()\n",
    "        # resize the prob list\n",
    "        proportions = (np.cumsum(proportions) * len(idx_k)).astype(int)[:-1]\n",
    "        # calculate the cumulative sum of proba list, rule out the last element(which i think is unnecessary)\n",
    "        idx_batch = [idx_j + idx.tolist() for idx_j, idx in zip(idx_batch, np.split(idx_k, proportions))]\n",
    "        # update idx_batch, distribute samples from class k accorss all clients\n",
    "    min_size = min([len(idx_j) for idx_j in idx_batch])\n",
    "    # calulate min_size to see whether need to re-sampling\n",
    "    \n",
    "for j in range(num_clients):\n",
    "    np.random.shuffle(idx_batch[j])\n",
    "    net_dataidx_map[j] = idx_batch[j]"
   ]
  },
  {
   "cell_type": "code",
   "execution_count": 189,
   "id": "c6ac7f8d-d50b-4548-870c-fe9a684f7606",
   "metadata": {},
   "outputs": [
    {
     "data": {
      "text/plain": [
       "[5288, 6861, 7165, 5343, 7053, 4728, 6548, 7552, 3112, 6350]"
      ]
     },
     "execution_count": 189,
     "metadata": {},
     "output_type": "execute_result"
    }
   ],
   "source": [
    "[len(net_dataidx_map[i]) for i in range(10)]"
   ]
  },
  {
   "cell_type": "code",
   "execution_count": 177,
   "id": "8eb5e149-4962-4e49-9253-40299d74ff04",
   "metadata": {},
   "outputs": [
    {
     "data": {
      "text/plain": [
       "[5288, 6861, 7165, 5343, 7053, 4728, 6548, 7552, 3112, 6350]"
      ]
     },
     "execution_count": 177,
     "metadata": {},
     "output_type": "execute_result"
    }
   ],
   "source": [
    "[len(idx_batch[i]) for i in range(10)]"
   ]
  },
  {
   "cell_type": "code",
   "execution_count": 178,
   "id": "f071d1f8-25ed-4a63-9c05-5c1a93837ab0",
   "metadata": {
    "tags": []
   },
   "outputs": [],
   "source": [
    "labels =[[] for _ in range(num_clients)]\n",
    "for i in range(10):\n",
    "    for index in idx_batch[i]:\n",
    "        _,lable = iid_data[index]\n",
    "        labels[i].append(lable)"
   ]
  },
  {
   "cell_type": "code",
   "execution_count": 179,
   "id": "380ba28a-e3f8-425a-ba45-6763885a97dd",
   "metadata": {},
   "outputs": [
    {
     "data": {
      "text/plain": [
       "[5288, 6861, 7165, 5343, 7053, 4728, 6548, 7552, 3112, 6350]"
      ]
     },
     "execution_count": 179,
     "metadata": {},
     "output_type": "execute_result"
    }
   ],
   "source": [
    "[len(labels[i]) for i in range(10)]"
   ]
  },
  {
   "cell_type": "code",
   "execution_count": 180,
   "id": "16c359be-8d9f-469a-990a-ac0656080a4a",
   "metadata": {
    "tags": []
   },
   "outputs": [
    {
     "data": {
      "text/plain": [
       "[[776, 788, 122, 76, 176, 69, 1114, 854, 888, 425],\n",
       " [537, 1125, 1521, 494, 1586, 618, 980, 0, 0, 0],\n",
       " [2273, 1653, 373, 1069, 592, 1205, 0, 0, 0, 0],\n",
       " [415, 192, 154, 486, 47, 167, 747, 529, 1365, 1241],\n",
       " [822, 772, 544, 946, 152, 675, 1437, 219, 1486, 0],\n",
       " [46, 472, 298, 373, 113, 313, 592, 519, 32, 1970],\n",
       " [173, 385, 523, 592, 367, 844, 569, 3095, 0, 0],\n",
       " [84, 420, 1042, 287, 606, 114, 357, 894, 2026, 1722],\n",
       " [238, 12, 72, 1162, 648, 61, 121, 155, 53, 590],\n",
       " [559, 923, 1309, 646, 1555, 1355, 1, 0, 1, 1]]"
      ]
     },
     "execution_count": 180,
     "metadata": {},
     "output_type": "execute_result"
    }
   ],
   "source": [
    "count_matrix = [[] for _ in range(num_clients)]\n",
    "for client_idx in range(num_clients):\n",
    "    count_matrix[client_idx] = [labels[client_idx].count(i) for i in range(num_classes)]      \n",
    "count_matrix"
   ]
  },
  {
   "cell_type": "code",
   "execution_count": 181,
   "id": "6f339774-f0da-43e1-bf02-79d60dfdca9f",
   "metadata": {},
   "outputs": [
    {
     "data": {
      "text/plain": [
       "[Text(0.5, 69.0, 'class index'), Text(69.0, 0.5, 'client index')]"
      ]
     },
     "execution_count": 181,
     "metadata": {},
     "output_type": "execute_result"
    },
    {
     "data": {
      "image/png": "[encoded data removed]",
      "text/plain": [
       "<Figure size 720x720 with 2 Axes>"
      ]
     },
     "metadata": {
      "needs_background": "light"
     },
     "output_type": "display_data"
    }
   ],
   "source": [
    "import seaborn as sns\n",
    "import matplotlib.pyplot as plt\n",
    "fig, ax = plt.subplots(figsize = (10,10))\n",
    "figure = sns.heatmap(count_matrix,annot=True,annot_kws={'size':10},fmt='.20g',cmap='Greens',ax=ax)\n",
    "figure.set(xlabel = 'class index',ylabel = 'client index')"
   ]
  },
  {
   "cell_type": "code",
   "execution_count": 190,
   "id": "c35c45ff-50ad-4a41-a26b-86d898d83e97",
   "metadata": {},
   "outputs": [],
   "source": [
    "def plot_dis(dataset, client_dataidx_map):\n",
    "    num_clients = len(client_dataidx_map.keys())\n",
    "    num_classes = len(dataset.classes)\n",
    "    labels = [[] for _ in range(num_clients)]\n",
    "    for i in range(10):\n",
    "        for index in client_dataidx_map[i]:\n",
    "            _, lable = dataset[index]\n",
    "            labels[i].append(lable)\n",
    "\n",
    "    count_matrix = [[] for _ in range(num_clients)]\n",
    "    for client_idx in range(num_clients):\n",
    "        count_matrix[client_idx] = [labels[client_idx].count(i) for i in range(num_classes)]\n",
    "\n",
    "    fig, ax = plt.subplots(figsize=(10, 10))\n",
    "    figure = sns.heatmap(count_matrix, annot=True, annot_kws={'size': 10},\n",
    "                         fmt='.20g', cmap='Greens', ax=ax)\n",
    "    figure.set(xlabel='class index', ylabel='client index')\n",
    "    return figure"
   ]
  },
  {
   "cell_type": "code",
   "execution_count": 191,
   "id": "b1cd0b4f-d5f5-4b47-be25-405e0f0dc7e6",
   "metadata": {},
   "outputs": [
    {
     "data": {
      "text/plain": [
       "<AxesSubplot:xlabel='class index', ylabel='client index'>"
      ]
     },
     "execution_count": 191,
     "metadata": {},
     "output_type": "execute_result"
    },
    {
     "data": {
      "image/png": "[encoded data removed]",
      "text/plain": [
       "<Figure size 720x720 with 2 Axes>"
      ]
     },
     "metadata": {
      "needs_background": "light"
     },
     "output_type": "display_data"
    }
   ],
   "source": [
    "plot_dis(iid_data, net_dataidx_map)"
   ]
  },
  {
   "cell_type": "code",
   "execution_count": 71,
   "id": "df4adad8-a143-4256-b8ca-614a71b7fc4a",
   "metadata": {},
   "outputs": [
    {
     "data": {
      "text/plain": [
       "array([3149, 3198, 3266, 3562, 3700, 3729, 4022, 4061, 4712])"
      ]
     },
     "execution_count": 71,
     "metadata": {},
     "output_type": "execute_result"
    }
   ],
   "source": [
    "(np.cumsum(proportions)*len(idxs)).astype(int)[:-1]"
   ]
  },
  {
   "cell_type": "code",
   "execution_count": 72,
   "id": "368dff30-bcb8-4940-a587-06a9710c7cf1",
   "metadata": {},
   "outputs": [
    {
     "data": {
      "text/plain": [
       "array([3149, 3198, 3266, 3562, 3700, 3729, 4022, 4061, 4712, 6000])"
      ]
     },
     "execution_count": 72,
     "metadata": {},
     "output_type": "execute_result"
    }
   ],
   "source": [
    "(np.cumsum(proportions)*len(idxs)).astype(int)"
   ]
  },
  {
   "cell_type": "code",
   "execution_count": 73,
   "id": "cb227ef8-2ebe-4005-8286-ba3b450440f4",
   "metadata": {
    "collapsed": true,
    "jupyter": {
     "outputs_hidden": true
    },
    "tags": []
   },
   "outputs": [
    {
     "data": {
      "text/plain": [
       "{0: array([2340, 3158, 4842, ..., 5466, 2228, 2675]),\n",
       " 1: array([4752, 3995, 1520, 4743, 5689, 4196, 2518, 4292, 1024, 2550, 3097,\n",
       "        1568, 3865, 1467, 1952, 2486, 2384, 4148, 1791, 5758, 3864, 2306,\n",
       "        2980, 1694, 2026, 2209,  722,  985,  410, 1287, 5283, 3000, 4053,\n",
       "        3433, 2618, 3820, 4282, 5997,  788, 2446, 3403, 1036,  876,  284,\n",
       "        1383, 3897, 1913, 1900, 5391]),\n",
       " 2: array([ 557, 5739, 2548, 3355, 4705,  289, 5657, 5202, 1110, 1761, 4990,\n",
       "        2962, 4316, 2539, 4954, 4784,  820, 4544, 2152, 4334, 4803, 1739,\n",
       "        4967, 1328, 4952, 5830, 5940,  447, 5956, 2383, 2311, 5905, 5540,\n",
       "        3330, 2775, 4561, 3153, 5196, 2239, 5519, 4021, 4569, 1297,    6,\n",
       "         302, 2815, 4968, 1843, 1455, 4989, 3901, 4781, 3690, 1346, 5016,\n",
       "        4859, 2650, 2146, 2597, 4554, 2309, 3798, 5713, 4323,  119, 3404,\n",
       "         867, 1693]),\n",
       " 3: array([2274, 5226, 2255, 4455, 3929, 1210,  672, 1570, 4390, 3857, 1012,\n",
       "        3051, 4662, 5116, 4493, 5139,  918, 2756, 5886, 5525, 4588, 2500,\n",
       "         946, 1901, 5461, 5417, 2414, 2284,  848, 4442, 3200, 5473,  130,\n",
       "        1750, 2615, 3532, 2011, 1367, 2484, 4778,  309,  936, 5593, 2172,\n",
       "        4615, 4232,  779, 3677, 5643, 2267, 5692, 5209, 2378, 2347, 3586,\n",
       "         244, 1041, 4451, 3093, 5860, 5818, 1149, 1920, 2147, 4471, 5128,\n",
       "        5411, 3142,  706, 1378, 5138, 4274, 3072, 1638,  816, 1990, 4507,\n",
       "        5575, 3867, 1309,  297, 2117, 3975, 2519, 3974, 2189, 4486,   63,\n",
       "        4350, 4700, 5157, 3357, 2565, 2436, 2013, 3423, 5494, 4333, 4923,\n",
       "        3450, 3506, 3738, 4926, 4640,  660, 2803, 5990, 2326,  967, 4095,\n",
       "        1887, 1209, 1425, 5242,  206, 5521, 2820, 5118, 1793, 1551, 1928,\n",
       "        5602, 1092, 2417, 3608, 2678, 3257, 5562, 1316, 2312,  570, 1632,\n",
       "        2808, 1663,  395,  847, 5431,  786, 5836, 3038, 1462, 1220,  957,\n",
       "         536, 3132, 3536, 4260, 4799,   86, 3372, 2858, 2249, 4012, 1398,\n",
       "        1433, 2031, 1293, 1932, 1202, 5349, 5722, 1211, 2761, 2827,  118,\n",
       "        2475, 5809, 1295, 1619, 5424, 5190, 2759, 2967, 2321, 2495, 1659,\n",
       "        1522,  880, 2776,  869, 5752, 1652, 5410, 4409, 5475,  163, 4245,\n",
       "        4860, 4663, 3765, 1927, 2829, 2355, 4889, 5999, 4199, 5192, 2758,\n",
       "        3098, 5911, 4290, 2459, 4386, 5023,  709, 3727, 4730, 3240, 2279,\n",
       "        2000, 3018, 3733, 2207, 2807, 4065, 1168, 1369, 4352, 4255, 2656,\n",
       "        1552, 1890,  241, 5974, 1020, 3676,  843, 2376, 5452, 5465, 2788,\n",
       "         964, 2424, 3610,   84, 3242, 2825, 1606, 5626, 3456, 5600, 1025,\n",
       "        3991,  919, 5541, 1691, 2301, 2692, 2918, 5660, 3981, 4930, 4624,\n",
       "        4887, 1980, 2392, 5320,  257,  952,  386, 1109,  895, 5085,  102,\n",
       "        4906, 4518, 5244, 3940, 3994, 3360, 1066, 1325,  927, 1234, 1067,\n",
       "        2420, 4847,  481, 3745, 3115,  636, 5299, 4940,  777,   24, 5115,\n",
       "        5867, 1476, 4731, 5732, 1608,  278, 1364,   38,  851, 4463]),\n",
       " 4: array([2048, 1668, 4946, 4335, 2546, 5681, 5272, 1684, 2949, 5550, 3301,\n",
       "        1033, 4283, 3106, 3164, 2264, 4718,  294, 2195, 2432, 3336, 3468,\n",
       "        3377, 3924,  380,  434,  647, 5937, 3800, 1858, 4764, 3834, 1454,\n",
       "        3480, 5499, 3619,  715,  140,   54, 3314, 2015, 5601, 4958, 2012,\n",
       "        5079, 1669, 2796, 2243, 5506, 3669, 4739,  508, 5661,  170,  190,\n",
       "        2751, 5076, 1437, 4131, 4526, 5031, 4268, 5749,   85,  640, 3630,\n",
       "        2989,  835, 5711, 2631,  321, 1324, 3262, 1113, 4791, 2852, 4118,\n",
       "        2806,  785, 1810, 2610, 1766, 2153,   67, 5935, 5851, 1721, 3555,\n",
       "        1529, 1006, 3615, 3293, 1610,  552, 4363, 4295, 2203, 1501,  699,\n",
       "        3321, 4058,   93, 3982,  802, 2028, 3943, 1130,  489, 3722, 2487,\n",
       "        2772, 1360, 5436, 4900, 4129, 4032, 3569, 1095, 4446, 4901, 4655,\n",
       "        1642,  893, 4458, 5220, 5275, 1835, 3973, 4149, 5407, 3832, 3185,\n",
       "        5254, 5582, 3295,  215, 2467, 2913]),\n",
       " 5: array([1630, 3691, 3988,  801,  694, 3552, 1342, 4176, 5893, 3581,  369,\n",
       "        2141, 5621,  261,   45, 5232, 5288, 5899, 3788, 3900, 1358, 5595,\n",
       "        1770, 4963, 3165, 4048, 5614, 2019,  402]),\n",
       " 6: array([ 928, 4944, 5607, 4939, 2794, 2955, 4964, 2466, 4171, 2766, 1953,\n",
       "        3705, 1125, 5778, 3234, 5865, 1664, 5907, 1259, 1809, 1706,  527,\n",
       "        1054, 5110, 3299,  761, 3821, 5609, 5107, 4410, 2251, 1265, 5850,\n",
       "        1560,  234, 4581, 1215, 5625, 2642,  679, 2823,  246,  780, 2575,\n",
       "        3166, 4329, 4231,  199, 1976, 5549, 4734, 2998, 3694,  659, 2902,\n",
       "         693, 1009, 5319, 5006, 3013, 4875, 4038, 5289, 5844, 2394,  980,\n",
       "        3667, 5887, 3197, 3147, 5009, 2231,  846, 3145, 2375,  987, 2635,\n",
       "        4517, 5370, 5351,  635,   66, 3025, 5442, 3266, 5343, 4470, 4101,\n",
       "        5489,  204, 3507, 1320,  404, 3390, 2701, 5718, 3094, 4400, 4593,\n",
       "        2289, 3065, 2596,   64, 5310, 1274, 4729, 5060, 1337, 2805, 2335,\n",
       "        1138, 2531, 4500,  348, 2832,  538, 5862,  993, 1967,  396, 4071,\n",
       "        4683, 4358, 4677, 4937,   18, 2816, 3828, 5213, 4877, 5152, 5487,\n",
       "        5362, 5676, 3267, 1183, 5898, 5687, 3135, 5046, 2502, 1226, 2959,\n",
       "         328, 2058, 1417,   30, 4088, 1986, 4555, 5751,  586, 3571, 1617,\n",
       "        3386, 2399, 2898, 2947, 1648, 5726, 5698, 3258, 2515, 4375, 2485,\n",
       "        3859, 1786,  944,  449, 3863, 3017, 3941, 1870,  517, 5112, 2457,\n",
       "        4612, 4712, 2054, 4476, 3322, 2050, 3395, 1382, 4108, 3397, 5462,\n",
       "        3735, 5451, 5638, 1267, 3129, 5015, 4462,  379,  491, 5771, 1751,\n",
       "        2626, 5613,  181, 3466, 4886, 4174, 2535, 3011,  608,  184, 5673,\n",
       "        2273, 4348,  849,  554, 4981, 3682, 1679, 2956, 2814, 1357, 3526,\n",
       "         984, 1278, 2389, 5454, 1614,  765, 5928, 3773, 1772, 3633, 4014,\n",
       "        2108, 5295, 4947,  592, 3866, 2840, 2867,  363, 4227, 2346,  805,\n",
       "        5612, 5294, 3985, 3550, 3794, 3840, 5560,  907, 3429, 4411, 2556,\n",
       "        3451,  271, 3363, 3498, 4042, 2482, 2522, 1884, 5216, 4710, 2938,\n",
       "        5119, 1331, 1363, 4638, 4543, 3023, 2581, 5048, 3125, 4113,  713,\n",
       "         467,  560, 2928, 2372,  970, 2086, 4123, 1636,  615,  287, 2606,\n",
       "        1258, 3376, 3001, 3743, 1818,  310,  124]),\n",
       " 7: array([1926, 2365, 2139, 4840, 5605, 3187,  324, 1585,  332, 5880, 5071,\n",
       "        3332, 2084,  965, 1542, 1338, 3881, 2603, 4684, 5201, 3472, 4312,\n",
       "         423, 5087, 4263, 1505, 3959,  100, 5954, 1856, 4365, 4300, 1902,\n",
       "        1061, 4444, 1566, 4212, 4521,  280]),\n",
       " 8: array([2979, 2300, 5706, 2330, 5690,  465, 4627, 3428, 4487, 2950, 5696,\n",
       "        4072, 5546, 5143,  863, 3144,  107, 2022, 2574, 5976,  734, 2906,\n",
       "          52,  333, 1047, 2412, 1353,  858, 2963, 1524, 2079, 4438, 4420,\n",
       "        1641, 4483, 5198, 5353, 3333, 3303,  668, 1702, 5096, 3005, 5665,\n",
       "        4653, 1451, 2741, 4936, 5750, 5132, 1904, 3623, 1781, 5163, 5744,\n",
       "         235, 3533, 1127, 1298, 4896, 5685,  432,  605, 4229, 5983, 3086,\n",
       "        1069, 2964, 4175, 1970, 4357, 1790, 2148, 1143, 3344, 3680, 3813,\n",
       "        4621, 3168, 1001, 2735,  950, 3753, 1190,  705, 5815, 3313, 3836,\n",
       "        2914,  585, 5796,  326, 3715, 2386, 4959,  498, 1916, 5799, 1907,\n",
       "        4999, 5680,  522,  224, 1923, 4218, 3195, 3811, 2583, 2995, 2447,\n",
       "        4661, 1824, 3169, 3220, 1935,  397, 2958, 5988, 1228, 1046,   25,\n",
       "        2628, 5552,  807, 5456, 4817, 1763, 5800, 1609, 1831,  420, 4540,\n",
       "        4183,  678,  312, 3737, 2462, 5930, 4934, 1558, 3905, 2205, 4618,\n",
       "        2876, 1321, 4623,  719, 1523, 4574, 4514, 2664,   23, 5904,  117,\n",
       "         792, 1742, 4216, 3963, 5091, 2076,  754, 1492, 3618, 4563, 2639,\n",
       "        5813,  487, 5773,  855, 3020, 5042, 5331, 3852,  864, 4894, 2157,\n",
       "        2156, 5825,  839, 2570, 3053,  663, 1194, 2669, 5895,  753, 1306,\n",
       "        2990,  776, 5814,  390, 2698, 4701, 5585,  318, 3593,   35, 3439,\n",
       "         221, 1222, 1950,  484, 2523, 5637, 3714, 3782, 1082, 4749, 1811,\n",
       "         866,  311, 3109, 3553, 5146, 2638,  350, 5124, 3387, 1941, 2302,\n",
       "        2101, 2649, 4125, 4055,  902,   57, 3083, 1747, 1934, 4272, 4097,\n",
       "        5266,  845, 4194, 5786, 5240, 4694, 4719,  676, 1867, 2623, 5587,\n",
       "         268, 4991, 5120, 5170, 4592, 3291, 3319, 5510, 5757, 3769,  203,\n",
       "        3323, 4513,  942, 3791, 4531, 4941,  394, 5105, 3561,  409,  260,\n",
       "        5728,  959, 5260, 4522, 5659, 3459, 1406, 3269, 1687, 1862, 2577,\n",
       "        5127, 2521, 2477, 4173, 5975, 1028, 5239, 4979, 4362,  656, 2966,\n",
       "        2221, 3446,  153, 4795, 2494,  603, 4632, 1514, 2822, 3366, 2526,\n",
       "        1960,  262,  273, 3042,   12,  739, 2469, 4330,  314, 1003, 1667,\n",
       "        1142, 1153, 5783, 4236,  255,  279, 4770, 5367, 1099, 5857, 4136,\n",
       "        2036, 5534, 1948, 5467, 3702, 2107, 4142, 5522,  823, 5264, 4370,\n",
       "        4492, 4006, 3003,  441, 3479, 2371, 3157,  344, 4304,  748,  518,\n",
       "        2861, 4565, 3849, 4619, 1521, 5731,  525,  120, 3814, 4776, 1504,\n",
       "        3592, 4533,  727, 5406, 5703, 4498, 1119, 4233,  870, 3584, 1216,\n",
       "        5387, 5812, 3188, 4135, 5184,   60, 1827, 1236, 3644, 1291, 5233,\n",
       "        3415, 4641, 1124,  506, 4475, 3818, 5010, 2112, 1859, 2968, 3851,\n",
       "        2478, 4878, 4595, 5936, 5908, 5616, 3430, 4982, 4648, 3103, 3888,\n",
       "         139, 5604, 1491, 3252, 1942, 1537,  335, 4993,  442, 3263, 5610,\n",
       "        3035, 4560, 2721, 2799, 2393,  796, 2292, 5441, 5354, 2388, 1011,\n",
       "        4296, 5821,  661, 3700, 2904, 4009, 4965, 3204, 4428, 4579, 1013,\n",
       "         245,  160, 5675, 4562, 3235,  157, 3844, 4013, 1584, 5871, 1801,\n",
       "        1242, 3418, 4099, 3651, 5556, 4414, 1356, 3073, 2452, 3082, 4067,\n",
       "        1208, 5559,  189, 2499, 1645, 1005, 4395, 2994, 3969, 2866,  982,\n",
       "        2204, 1440, 1982, 5509, 5914,  731, 3831,  810, 1151, 3760, 1877,\n",
       "        3152, 2927, 5026, 1447, 3102, 1984, 5104, 3384, 3524, 5221, 4545,\n",
       "         886, 2143,  272, 4733, 3755, 1604,  480, 5412, 5329, 3308, 3984,\n",
       "        5376,  486, 4986, 5359, 3346, 4892, 1893, 1260,  112, 4182, 1145,\n",
       "        3143, 2299, 4259, 1299,   94, 1692, 5520, 5639, 3391, 3812, 5267,\n",
       "        1767, 1674, 5302, 3184, 2619,  320, 2672, 1484, 4033, 5355, 1549,\n",
       "        2924, 1051, 4472, 3804, 2124,  126, 3911, 2677, 5794, 4862, 3803,\n",
       "        2305, 5072,  745, 3954, 4806, 5014, 5092, 1345, 2655, 1841, 2720,\n",
       "        4590, 2713, 4146, 4688, 2163, 5074, 1869, 3341, 3362, 4308, 5327,\n",
       "        1853, 2512, 5246, 3021, 1854, 4029, 3494, 5792, 5413, 1557, 5599,\n",
       "        5645,  900, 2281, 4087,  800, 1579,  563, 2329, 4284,  590, 5754,\n",
       "        1712, 5817, 4151, 2593,  543, 5978,  988,  898, 2740, 2943, 4844,\n",
       "        2435,   56,   97,  114, 3896, 4843,  214, 1381, 5921, 5986, 2558,\n",
       "        2498, 4077, 5070, 3570, 4361, 5819, 1240, 1792,  401, 1126,  422,\n",
       "         620, 2277, 2670, 2689, 2517, 3761,  724, 5223, 2002, 4167, 5409,\n",
       "        4389, 2431, 5734, 1670, 3944,  904, 2361,  882,  337, 4402, 1633,\n",
       "        3004, 4548, 2640, 2607, 5253, 1407, 1635, 4023, 4800, 2121, 4207,\n",
       "         685, 4704]),\n",
       " 9: array([4977, 2180, 4898, ..., 3602,  737, 2007])}"
      ]
     },
     "execution_count": 73,
     "metadata": {},
     "output_type": "execute_result"
    }
   ],
   "source": [
    "proportions1 = (np.cumsum(proportions)*len(idxs)).astype(int)\n",
    "batch_idxs = np.split(idxs,proportions1)\n",
    "net_dataidx_map = {i: batch_idxs[i] for i in range(10)}\n",
    "net_dataidx_map"
   ]
  },
  {
   "cell_type": "code",
   "execution_count": 75,
   "id": "13b311ca-bbd1-4ab3-9568-620748351357",
   "metadata": {},
   "outputs": [
    {
     "data": {
      "text/plain": [
       "array([3149, 3198, 3266, 3562, 3700, 3729, 4022, 4061, 4712, 6000])"
      ]
     },
     "execution_count": 75,
     "metadata": {},
     "output_type": "execute_result"
    }
   ],
   "source": [
    "proportions2 = (np.cumsum(proportions)*len(idxs)).astype(int)\n",
    "batch_idxs = np.split(idxs,proportions2)\n",
    "net_dataidx_map2 = {i: batch_idxs[i] for i in range(10)}\n",
    "proportions2"
   ]
  },
  {
   "cell_type": "code",
   "execution_count": 76,
   "id": "3d1f7746-8441-4fdb-8cfb-a39c8f420611",
   "metadata": {
    "tags": []
   },
   "outputs": [
    {
     "data": {
      "text/plain": [
       "array([3149, 3198, 3266, 3562, 3700, 3729, 4022, 4061, 4712])"
      ]
     },
     "execution_count": 76,
     "metadata": {},
     "output_type": "execute_result"
    }
   ],
   "source": [
    "proportions1"
   ]
  },
  {
   "cell_type": "code",
   "execution_count": 84,
   "id": "c0860e11-b1a3-49f7-bec2-0b7672c301e4",
   "metadata": {},
   "outputs": [
    {
     "data": {
      "text/plain": [
       "1288"
      ]
     },
     "execution_count": 84,
     "metadata": {},
     "output_type": "execute_result"
    }
   ],
   "source": [
    "len(net_dataidx_map2[9])"
   ]
  },
  {
   "cell_type": "code",
   "execution_count": 86,
   "id": "8a3298a6-354a-462a-aedb-09e484100795",
   "metadata": {
    "tags": []
   },
   "outputs": [
    {
     "data": {
      "text/plain": [
       "1288"
      ]
     },
     "execution_count": 86,
     "metadata": {},
     "output_type": "execute_result"
    }
   ],
   "source": [
    "len(net_dataidx_map[9])"
   ]
  },
  {
   "cell_type": "code",
   "execution_count": 87,
   "id": "9eedd28b-ac83-495f-80b9-f5a8b351c20e",
   "metadata": {},
   "outputs": [
    {
     "data": {
      "text/plain": [
       "6000"
      ]
     },
     "execution_count": 87,
     "metadata": {},
     "output_type": "execute_result"
    }
   ],
   "source": [
    "1288+4712"
   ]
  },
  {
   "cell_type": "code",
   "execution_count": 89,
   "id": "8b64fab1-6eb7-4854-b55a-c9a32af10238",
   "metadata": {
    "collapsed": true,
    "jupyter": {
     "outputs_hidden": true
    },
    "tags": []
   },
   "outputs": [
    {
     "data": {
      "text/plain": [
       "[4752,\n",
       " 3995,\n",
       " 1520,\n",
       " 4743,\n",
       " 5689,\n",
       " 4196,\n",
       " 2518,\n",
       " 4292,\n",
       " 1024,\n",
       " 2550,\n",
       " 3097,\n",
       " 1568,\n",
       " 3865,\n",
       " 1467,\n",
       " 1952,\n",
       " 2486,\n",
       " 2384,\n",
       " 4148,\n",
       " 1791,\n",
       " 5758,\n",
       " 3864,\n",
       " 2306,\n",
       " 2980,\n",
       " 1694,\n",
       " 2026,\n",
       " 2209,\n",
       " 722,\n",
       " 985,\n",
       " 410,\n",
       " 1287,\n",
       " 5283,\n",
       " 3000,\n",
       " 4053,\n",
       " 3433,\n",
       " 2618,\n",
       " 3820,\n",
       " 4282,\n",
       " 5997,\n",
       " 788,\n",
       " 2446,\n",
       " 3403,\n",
       " 1036,\n",
       " 876,\n",
       " 284,\n",
       " 1383,\n",
       " 3897,\n",
       " 1913,\n",
       " 1900,\n",
       " 5391]"
      ]
     },
     "execution_count": 89,
     "metadata": {},
     "output_type": "execute_result"
    }
   ],
   "source": [
    "net_dataidx_map[1].tolist()"
   ]
  },
  {
   "cell_type": "code",
   "execution_count": 90,
   "id": "4469837c-b204-461a-ac0e-014928ab9e92",
   "metadata": {},
   "outputs": [
    {
     "data": {
      "text/plain": [
       "20"
      ]
     },
     "execution_count": 90,
     "metadata": {},
     "output_type": "execute_result"
    }
   ],
   "source": [
    "index = 0\n",
    "while index < 10:\n",
    "    for i in range(10):\n",
    "        index += 2\n",
    "index"
   ]
  },
  {
   "cell_type": "code",
   "execution_count": 91,
   "id": "3798879a-5f52-4af3-aaac-a3c1a4ab4a7d",
   "metadata": {},
   "outputs": [],
   "source": [
    "A=[1,2,3,4,5]"
   ]
  },
  {
   "cell_type": "code",
   "execution_count": 92,
   "id": "30788c9e-1241-415e-b15c-78c7d375496a",
   "metadata": {},
   "outputs": [],
   "source": [
    "np.random.shuffle(A)"
   ]
  },
  {
   "cell_type": "code",
   "execution_count": 93,
   "id": "c8093927-8d48-4bdd-a5f5-0d7b9e14f470",
   "metadata": {},
   "outputs": [
    {
     "data": {
      "text/plain": [
       "[5, 2, 4, 3, 1]"
      ]
     },
     "execution_count": 93,
     "metadata": {},
     "output_type": "execute_result"
    }
   ],
   "source": [
    "A"
   ]
  },
  {
   "cell_type": "code",
   "execution_count": 193,
   "id": "cf239a36-e09d-4a94-8674-5bfb93424d72",
   "metadata": {},
   "outputs": [
    {
     "name": "stdout",
     "output_type": "stream",
     "text": [
      "85.41%\n"
     ]
    }
   ],
   "source": [
    "print(\"{:.2f}%\".format(0.8541*100))"
   ]
  },
  {
   "cell_type": "code",
   "execution_count": null,
   "id": "d7134714-f282-4ecf-a235-cb7974ee760f",
   "metadata": {},
   "outputs": [],
   "source": []
  }
 ],
 "metadata": {
  "kernelspec": {
   "display_name": "Python 3 (ipykernel)",
   "language": "python",
   "name": "python3"
  },
  "language_info": {
   "codemirror_mode": {
    "name": "ipython",
    "version": 3
   },
   "file_extension": ".py",
   "mimetype": "text/x-python",
   "name": "python",
   "nbconvert_exporter": "python",
   "pygments_lexer": "ipython3",
   "version": "3.7.13"
  }
 },
 "nbformat": 4,
 "nbformat_minor": 5
}
